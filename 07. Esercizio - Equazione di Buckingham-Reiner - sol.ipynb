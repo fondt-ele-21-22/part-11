{
 "cells": [
  {
   "cell_type": "code",
   "execution_count": 1,
   "metadata": {
    "slideshow": {
     "slide_type": "skip"
    }
   },
   "outputs": [],
   "source": [
    "%load_ext autoreload\n",
    "%autoreload 2"
   ]
  },
  {
   "cell_type": "markdown",
   "metadata": {
    "slideshow": {
     "slide_type": "subslide"
    }
   },
   "source": [
    "## Esercizio: Buckingham-Reiner\n",
    "\n",
    "**Consideriamo un fluido di Bingham**\n",
    "\n",
    "* Se il fluido è in moto laminare, il fattore di attrito $f$ in una condotta\n",
    "* ...è definito dalla seguente relazione (Buckingham-Reiner):\n",
    "\n",
    "$$f = \\frac{64}{Re} \\left(1 + \\frac{1}{6}\\frac{He}{Re} - \\frac{64}{3} \\frac{He^4}{f^3 Re^7}  \\right)$$\n",
    "\n",
    "* Dove $He$ è il numero di Hedstrom\n",
    "* E $Re$ è il numero di Reynolds"
   ]
  },
  {
   "cell_type": "markdown",
   "metadata": {
    "slideshow": {
     "slide_type": "subslide"
    }
   },
   "source": [
    "## Esercizio: Buckingham-Reiner\n",
    "\n",
    "**Vogliamo utilizzare la relazione per calcolare il valore di $f$**\n",
    "\n",
    "* Si supponga che i valori di $Re$ e $He$ siano noti\n",
    "* Allora possiamo determinare $f$ risolvendo l'equazione:\n",
    "\n",
    "$$f - \\frac{64}{Re} \\left(1 + \\frac{1}{6}\\frac{He}{Re} - \\frac{64}{3} \\frac{He^4}{f^3 Re^7}  \\right) = 0$$"
   ]
  },
  {
   "cell_type": "markdown",
   "metadata": {
    "slideshow": {
     "slide_type": "subslide"
    }
   },
   "source": [
    "## Esercizio: Buckingham-Reiner\n",
    "\n",
    "**Prima di tutto si carichino i dati del problema eseguendo la cella seguente:**"
   ]
  },
  {
   "cell_type": "code",
   "execution_count": 3,
   "metadata": {},
   "outputs": [],
   "source": [
    "# Dati del problem\n",
    "Re = 376\n",
    "He = 113.1"
   ]
  },
  {
   "cell_type": "markdown",
   "metadata": {
    "slideshow": {
     "slide_type": "subslide"
    }
   },
   "source": [
    "## Esercizio: Buckingham-Reiner\n",
    "\n",
    "**Nel modulo `sol.br` si definisca la classe:**\n",
    "\n",
    "```python\n",
    "class BuckinghamReiner:\n",
    "    def __init__(self, Re, He):\n",
    "        ...\n",
    "    \n",
    "    def __call__(self, f):\n",
    "        ...\n",
    "```\n",
    "\n",
    "Che calcoli (nel metodo `__call__`) il valore della funzione da azzerare\n",
    "\n",
    "**Si collaudi la funzione nella cella seguente**"
   ]
  },
  {
   "cell_type": "code",
   "execution_count": 9,
   "metadata": {},
   "outputs": [
    {
     "name": "stdout",
     "output_type": "stream",
     "text": [
      "f(0.001) = 0.38147867178399486\n"
     ]
    }
   ],
   "source": [
    "from sol import br\n",
    "\n",
    "x0 = 0.001\n",
    "\n",
    "f = br.BuckinghamReiner(Re, He)\n",
    "print(f'f({x0}) = {f(x0)}')"
   ]
  },
  {
   "cell_type": "markdown",
   "metadata": {
    "slideshow": {
     "slide_type": "subslide"
    }
   },
   "source": [
    "## Esercizio: Buckingham-Reiner\n",
    "\n",
    "**Si disegni il grafico della funzione**\n",
    "\n",
    "...Utilizzando `example.util.plot_univariate_function`"
   ]
  },
  {
   "cell_type": "code",
   "execution_count": 12,
   "metadata": {},
   "outputs": [
    {
     "data": {
      "image/png": "[encoded data removed]",
      "text/plain": [
       "<Figure size 1440x360 with 1 Axes>"
      ]
     },
     "metadata": {
      "needs_background": "light"
     },
     "output_type": "display_data"
    }
   ],
   "source": [
    "import numpy as np\n",
    "from example import util\n",
    "\n",
    "# Dati per il disegno\n",
    "x = np.linspace(0.001, 0.004)\n",
    "\n",
    "util.plot_univariate_function(f, x, figsize=(20, 5))"
   ]
  },
  {
   "cell_type": "markdown",
   "metadata": {},
   "source": [
    "## Esercizio: Buckingham-Reiner\n",
    "\n",
    "**Nel modulo `sol.br` si definisca la funzione**\n",
    "\n",
    "```python\n",
    "def find_sol(Re, He):\n",
    "    ...\n",
    "```\n",
    "\n",
    "...Che trovi una soluzione per l'equazione utilizzando la funzione `brentq` di `scipy`\n",
    "\n",
    "* La funzione deve restituire il valore della soluzione\n",
    "\n",
    "**Si utilizzi la funzione nella cella seguente**"
   ]
  },
  {
   "cell_type": "code",
   "execution_count": 13,
   "metadata": {},
   "outputs": [
    {
     "name": "stdout",
     "output_type": "stream",
     "text": [
      "Valore di f: 0.0014665920342842023\n"
     ]
    }
   ],
   "source": [
    "f_sol = br.find_sol(Re, He)\n",
    "print(f'Valore di f: {f_sol}')"
   ]
  }
 ],
 "metadata": {
  "celltoolbar": "Slideshow",
  "kernelspec": {
   "display_name": "Python 3 (ipykernel)",
   "language": "python",
   "name": "python3"
  },
  "language_info": {
   "codemirror_mode": {
    "name": "ipython",
    "version": 3
   },
   "file_extension": ".py",
   "mimetype": "text/x-python",
   "name": "python",
   "nbconvert_exporter": "python",
   "pygments_lexer": "ipython3",
   "version": "3.9.5"
  },
  "rise": {
   "center": false,
   "enable_chalkboard": true,
   "transition": "fade"
  }
 },
 "nbformat": 4,
 "nbformat_minor": 4
}
