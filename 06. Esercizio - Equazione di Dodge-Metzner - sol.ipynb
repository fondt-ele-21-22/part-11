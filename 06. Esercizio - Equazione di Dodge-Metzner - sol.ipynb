{
 "cells": [
  {
   "cell_type": "code",
   "execution_count": 1,
   "metadata": {
    "slideshow": {
     "slide_type": "skip"
    }
   },
   "outputs": [],
   "source": [
    "%load_ext autoreload\n",
    "%autoreload 2"
   ]
  },
  {
   "cell_type": "markdown",
   "metadata": {
    "slideshow": {
     "slide_type": "subslide"
    }
   },
   "source": [
    "## Esercizio: Equazione di Dodge-Metzner\n",
    "\n",
    "**Consideriamo un fluido di potenza (dilatante o pseudoplastico)**\n",
    "\n",
    "* Se il fluido è in moto turbolento, il fattore di attrito $f$ in una condotta\n",
    "* ...è definito dalla seguente relazione (Dodge-Metzner):\n",
    "\n",
    "$$\\frac{1}{\\sqrt{f}} = \\frac{4}{n^{0.75}} \\log\\left(Re_{pl} f^{1 - n/2}\\right) - \\frac{0.4}{n^{1.2}}$$\n",
    "\n",
    "* Dove $n$ è un parametro che caratterizza il fluido\n",
    "* $Re_{pl}$ è un numero di Reynolds modificato"
   ]
  },
  {
   "cell_type": "markdown",
   "metadata": {
    "slideshow": {
     "slide_type": "subslide"
    }
   },
   "source": [
    "## Esercizio: Equazione di Dodge-Metzner\n",
    "\n",
    "**Vogliamo utilizzare la relazione per calcolare il valore di $f$**\n",
    "\n",
    "* Si supponga che i valori di $Re_{pl}$ e $n$ siano noti\n",
    "* Allora possiamo determinare $f$ risolvendo l'equazione:\n",
    "\n",
    "$$\\frac{1}{\\sqrt{f}} - \\frac{4}{n^{0.75}} \\log\\left(Re_{pl} f^{1 - n/2}\\right) + \\frac{0.4}{n^{1.2}} = 0$$"
   ]
  },
  {
   "cell_type": "markdown",
   "metadata": {
    "slideshow": {
     "slide_type": "subslide"
    }
   },
   "source": [
    "## Esercizio: Equazione di Dodge-Metzner\n",
    "\n",
    "**Prima di tutto si carichino i dati del problema eseguendo la cella seguente:**"
   ]
  },
  {
   "cell_type": "code",
   "execution_count": 3,
   "metadata": {},
   "outputs": [],
   "source": [
    "# Dati del problem\n",
    "Re_pl = 4300\n",
    "n = 0.4"
   ]
  },
  {
   "cell_type": "markdown",
   "metadata": {
    "slideshow": {
     "slide_type": "subslide"
    }
   },
   "source": [
    "## Esercizio: Equazione di Dodge-Metzner\n",
    "\n",
    "**Nel modulo `sol.dm` si definisca la classe:**\n",
    "\n",
    "```python\n",
    "class DodgeMetzner:\n",
    "    def __init__(self, Re_pl, n):\n",
    "        ...\n",
    "    \n",
    "    def __call__(self, f):\n",
    "        ...\n",
    "```\n",
    "\n",
    "Che calcoli (nel metodo `__call__`) il valore della funzione da azzerare\n",
    "\n",
    "**Si collaudi la funzione nella cella seguente**"
   ]
  },
  {
   "cell_type": "code",
   "execution_count": 6,
   "metadata": {},
   "outputs": [
    {
     "name": "stdout",
     "output_type": "stream",
     "text": [
      "f(0.001) = 10.236891565015966\n"
     ]
    }
   ],
   "source": [
    "from sol import dm\n",
    "\n",
    "x0 = 0.0010\n",
    "\n",
    "f = dm.DodgeMetzner(Re_pl, n)\n",
    "print(f'f({x0}) = {f(x0)}')"
   ]
  },
  {
   "cell_type": "markdown",
   "metadata": {
    "slideshow": {
     "slide_type": "subslide"
    }
   },
   "source": [
    "## Esercizio: Equazione di Dodge-Metzner\n",
    "\n",
    "**Si disegni il grafico della funzione**\n",
    "\n",
    "...Utilizzando `example.util.plot_univariate_function`"
   ]
  },
  {
   "cell_type": "code",
   "execution_count": 11,
   "metadata": {},
   "outputs": [
    {
     "data": {
      "image/png": "[encoded data removed]",
      "text/plain": [
       "<Figure size 1440x360 with 1 Axes>"
      ]
     },
     "metadata": {
      "needs_background": "light"
     },
     "output_type": "display_data"
    }
   ],
   "source": [
    "import numpy as np\n",
    "from example import util\n",
    "\n",
    "# Dati per il disegno\n",
    "x = np.linspace(0.001, 0.003)\n",
    "\n",
    "util.plot_univariate_function(f, x, figsize=(20, 5))"
   ]
  },
  {
   "cell_type": "markdown",
   "metadata": {},
   "source": [
    "## Esercizio: Equazione di Dodge-Metzner\n",
    "\n",
    "**Nel modulo `sol.dm` si definisca la funzione**\n",
    "\n",
    "```python\n",
    "def find_sol(Re_pl, n):\n",
    "    ...\n",
    "```\n",
    "\n",
    "...Che trovi una soluzione per l'equazione utilizzando la funzione `brentq` di `scipy`\n",
    "\n",
    "* La funzione deve restituire il valore della soluzione\n",
    "\n",
    "**Si utilizzi la funzione nella cella seguente**"
   ]
  },
  {
   "cell_type": "code",
   "execution_count": 14,
   "metadata": {},
   "outputs": [
    {
     "name": "stdout",
     "output_type": "stream",
     "text": [
      "Valore di f: 0.001654106990061224\n"
     ]
    }
   ],
   "source": [
    "f_sol = dm.find_sol(Re_pl, n)\n",
    "print(f'Valore di f: {f_sol}')"
   ]
  }
 ],
 "metadata": {
  "celltoolbar": "Slideshow",
  "kernelspec": {
   "display_name": "Python 3 (ipykernel)",
   "language": "python",
   "name": "python3"
  },
  "language_info": {
   "codemirror_mode": {
    "name": "ipython",
    "version": 3
   },
   "file_extension": ".py",
   "mimetype": "text/x-python",
   "name": "python",
   "nbconvert_exporter": "python",
   "pygments_lexer": "ipython3",
   "version": "3.9.5"
  },
  "rise": {
   "center": false,
   "enable_chalkboard": true,
   "transition": "fade"
  }
 },
 "nbformat": 4,
 "nbformat_minor": 4
}
