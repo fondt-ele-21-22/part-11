{
 "cells": [
  {
   "cell_type": "code",
   "execution_count": 1,
   "metadata": {
    "slideshow": {
     "slide_type": "skip"
    }
   },
   "outputs": [],
   "source": [
    "%load_ext autoreload\n",
    "%autoreload 2"
   ]
  },
  {
   "cell_type": "markdown",
   "metadata": {
    "slideshow": {
     "slide_type": "subslide"
    }
   },
   "source": [
    "## Esercizio: Equilibri per Ricker\n",
    "\n",
    "**Si consideri il modello di Ricker:**\n",
    "\n",
    "$$\n",
    "x_{k+1} = x_k e^{r\\left(1 - \\frac{x_k}{N}\\right)}\n",
    "$$\n",
    "\n",
    "* Dove:\n",
    "  - $x_k$ è il valore della popolazione al passo $k$\n",
    "  - $r \\in [1, 2]$ è il tasso di crescita\n",
    "  - $N$ è la massima popolazione sostenibile"
   ]
  },
  {
   "cell_type": "markdown",
   "metadata": {
    "slideshow": {
     "slide_type": "subslide"
    }
   },
   "source": [
    "## Esercizio: Equilibri per Ricker\n",
    "\n",
    "**I punti di equilibrio del modello**\n",
    "\n",
    "...Possono essere individuati risolvendo:\n",
    "\n",
    "$$\n",
    "x - x e^{r\\left(1 - \\frac{x}{N}\\right)} = 0\n",
    "$$\n",
    "\n",
    "Indendiamo risolverla per via numerica"
   ]
  },
  {
   "cell_type": "markdown",
   "metadata": {
    "slideshow": {
     "slide_type": "subslide"
    }
   },
   "source": [
    "## Esercizio: Equilibri per Ricker\n",
    "\n",
    "**Prima di tutto si carichino i dati del problema eseguendo la cella seguente:**"
   ]
  },
  {
   "cell_type": "code",
   "execution_count": 11,
   "metadata": {},
   "outputs": [],
   "source": [
    "# Dati del problem\n",
    "r = 1.6\n",
    "N = 1\n",
    "x0 = 0.5"
   ]
  },
  {
   "cell_type": "markdown",
   "metadata": {
    "slideshow": {
     "slide_type": "subslide"
    }
   },
   "source": [
    "## Esercizio: Equilibri per Ricker\n",
    "\n",
    "**Nel modulo `sol.ricker` si definisca la classe:**\n",
    "\n",
    "```python\n",
    "class RickerEq:\n",
    "    def __init__(self, r=1, N=1):\n",
    "        ...\n",
    "    \n",
    "    def __call__(self, x):\n",
    "        ...\n",
    "```\n",
    "\n",
    "Che calcoli (nel metodo `__call__`) il valore della funzione da azzerare\n",
    "\n",
    "**Si collaudi la funzione nella cella seguente**"
   ]
  },
  {
   "cell_type": "code",
   "execution_count": 12,
   "metadata": {},
   "outputs": [
    {
     "name": "stdout",
     "output_type": "stream",
     "text": [
      "f(0.5) = -0.3243606353500641\n"
     ]
    }
   ],
   "source": [
    "from sol import ricker\n",
    "\n",
    "f = ricker.RickerEq(r=r, N=N)\n",
    "print(f'f({x0}) = {f(x0)}')"
   ]
  },
  {
   "cell_type": "markdown",
   "metadata": {
    "slideshow": {
     "slide_type": "subslide"
    }
   },
   "source": [
    "## Esercizio: Equilibri per Ricker\n",
    "\n",
    "**Si disegni il grafico della funzione**\n",
    "\n",
    "...Utilizzando `example.util.plot_univariate_function`"
   ]
  },
  {
   "cell_type": "code",
   "execution_count": 13,
   "metadata": {},
   "outputs": [
    {
     "data": {
      "image/png": "[encoded data removed]",
      "text/plain": [
       "<Figure size 1440x360 with 1 Axes>"
      ]
     },
     "metadata": {
      "needs_background": "light"
     },
     "output_type": "display_data"
    }
   ],
   "source": [
    "import numpy as np\n",
    "from example import util\n",
    "\n",
    "# Dati per il disegno\n",
    "x = np.linspace(-0.1, 1.1)\n",
    "\n",
    "util.plot_univariate_function(f, x, figsize=(20, 5))"
   ]
  },
  {
   "cell_type": "markdown",
   "metadata": {},
   "source": [
    "## Esercizio: Equilibri per Ricker\n",
    "\n",
    "**Nel modulo `sol.ricker` si definisca la funzione**\n",
    "\n",
    "```python\n",
    "def find_eq(r, N, a, b):\n",
    "    ...\n",
    "```\n",
    "\n",
    "...Che individui un punto di equilibrio compreso tra $a$ e $b$\n",
    "\n",
    "* ...Utilizzando la funzione `brentq` di `scipy`\n",
    "* La funzione deve restituire il valore del punto di equilibrio\n",
    "\n",
    "**Si utilizzi la funzione per individuare i _due_ punti di equilibrio del modello**"
   ]
  },
  {
   "cell_type": "code",
   "execution_count": 14,
   "metadata": {},
   "outputs": [
    {
     "name": "stdout",
     "output_type": "stream",
     "text": [
      "Primo punto di equilibrio: -9.40426032394951e-16\n",
      "Secondo punto di equilibrio: 1.0\n"
     ]
    }
   ],
   "source": [
    "x1 = ricker.find_eq(r=r, N=N, a=-0.1, b=0.1)\n",
    "x2 = ricker.find_eq(r=r, N=N, a=0.9, b=1.1)\n",
    "\n",
    "print(f'Primo punto di equilibrio: {x1}')\n",
    "print(f'Secondo punto di equilibrio: {x2}')"
   ]
  }
 ],
 "metadata": {
  "celltoolbar": "Slideshow",
  "kernelspec": {
   "display_name": "Python 3 (ipykernel)",
   "language": "python",
   "name": "python3"
  },
  "language_info": {
   "codemirror_mode": {
    "name": "ipython",
    "version": 3
   },
   "file_extension": ".py",
   "mimetype": "text/x-python",
   "name": "python",
   "nbconvert_exporter": "python",
   "pygments_lexer": "ipython3",
   "version": "3.9.5"
  },
  "rise": {
   "center": false,
   "enable_chalkboard": true,
   "transition": "fade"
  }
 },
 "nbformat": 4,
 "nbformat_minor": 4
}
