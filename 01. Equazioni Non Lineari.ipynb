{
 "cells": [
  {
   "cell_type": "markdown",
   "metadata": {
    "slideshow": {
     "slide_type": "skip"
    }
   },
   "source": [
    "Iniziamo abilitando subito l'estensione `autoreload`"
   ]
  },
  {
   "cell_type": "code",
   "execution_count": 1,
   "metadata": {
    "slideshow": {
     "slide_type": "skip"
    }
   },
   "outputs": [],
   "source": [
    "%load_ext autoreload\n",
    "%autoreload 2"
   ]
  },
  {
   "cell_type": "markdown",
   "metadata": {
    "slideshow": {
     "slide_type": "slide"
    }
   },
   "source": [
    "# Metodo della Bisezione"
   ]
  },
  {
   "cell_type": "markdown",
   "metadata": {
    "slideshow": {
     "slide_type": "subslide"
    }
   },
   "source": [
    "## Un Esempio\n",
    "\n",
    "**Si consideri il modello di Crescita Logistica visto a lezione:**\n",
    "\n",
    "$$x_{k+1} = r x_{k} \\left(1 - \\frac{x_{k}}{N}\\right)$$\n",
    "\n",
    "...Dove:\n",
    "\n",
    "* $x_{k}$ è il numero individui al passo $k$-mo\n",
    "* $r$ è un tasso di crescita\n",
    "* $N$ è il massimo valore della popolazione sostenibile\n",
    "\n",
    "**È interessate determinare _per quali valori di $x$ il sistema è in equilibrio_**\n",
    "\n",
    "> **Come possiamo determinarli?**"
   ]
  },
  {
   "cell_type": "markdown",
   "metadata": {
    "slideshow": {
     "slide_type": "subslide"
    }
   },
   "source": [
    "## Equilibri di Sistemi Dinamici Discreti\n",
    "\n",
    "**Un sistema dinamico discreto è definito da una equazione del tipo:**\n",
    "\n",
    "$$x_{k+1} = f(x_{k})$$\n",
    "\n",
    "Uno stato è di equilibrio se viene \"trasformato in se stesso\"\n",
    "\n",
    "**...Quindi, uno stato di equilibrio $x$ deve soddisfare:**\n",
    "\n",
    "$$x = f(x)$$\n",
    "\n",
    "Manca l'indice di tempo, perché lo stato a sx e dx è _lo stesso_\n",
    "\n",
    "* In pratica, abbiamo una equazione (in generale) non lineare\n",
    "* Se risolviamo l'equazione, determiniamo gli stati di equilibrio!"
   ]
  },
  {
   "cell_type": "markdown",
   "metadata": {
    "slideshow": {
     "slide_type": "subslide"
    }
   },
   "source": [
    "## Zeri di Funzione\n",
    "\n",
    "**La nostra equazione (lineare o meno):**\n",
    "\n",
    "$$x = f(x)$$\n",
    "\n",
    "...Può essere riscritta come:\n",
    "\n",
    "$$x - f(x) = 0$$\n",
    "\n",
    "* Quindi le soluzioni corrispondono ai punti in cui $x - f(x)$ si azzera\n",
    "* I.e. agli _zeri_ della funzione $F(x) = x - f(x)$\n",
    "\n",
    "Una trasformazione di questo tipo è _sempre_ possibile\n",
    "\n",
    "**...Quindi risolvere una equazione significa _trovare gli zeri di una funzione_**"
   ]
  },
  {
   "cell_type": "markdown",
   "metadata": {
    "slideshow": {
     "slide_type": "subslide"
    }
   },
   "source": [
    "## Una Applicazione alla Crescita Logistica \n",
    "\n",
    "**Per la crescita logistica, abbiamo:**\n",
    "\n",
    "$$F(x) = x - r x \\left(1 - \\frac{x}{N}\\right) = 0$$\n",
    "\n",
    "...Che è una equazione _non-lineare_\n",
    "\n",
    "* In pratica, è molto facile da trattare in modo _simbolico_\n",
    "  - I.e. possiamo ottenere una _formula_ per una soluzione \n",
    "* ...Ma noi la useremo come esempio per presentare _metodi numerici_\n",
    "  - I.e. metodi che offre un _valore_ come soluzione"
   ]
  },
  {
   "cell_type": "markdown",
   "metadata": {
    "slideshow": {
     "slide_type": "subslide"
    }
   },
   "source": [
    "## Una Applicazione alla Crescita Logistica\n",
    "\n",
    "**Come primo passo, definiamo la funzione di interesse**\n",
    "\n",
    "Useremo una classe (in modo da poter cambiare i parametri $r$ ed $N$)"
   ]
  },
  {
   "cell_type": "code",
   "execution_count": 3,
   "metadata": {},
   "outputs": [],
   "source": [
    "import numpy as np\n",
    "\n",
    "class LogiEq:\n",
    "    def __init__(self, r=1, N=1):\n",
    "        self.r = r\n",
    "        self.N = N\n",
    "    \n",
    "    def __call__(self, x):\n",
    "        return x - self.r * x * (1 - x/self.N)"
   ]
  },
  {
   "cell_type": "markdown",
   "metadata": {},
   "source": [
    "* Il metodo `__call__` calcola _il valore che desideriamo azzerare_"
   ]
  },
  {
   "cell_type": "markdown",
   "metadata": {
    "slideshow": {
     "slide_type": "subslide"
    }
   },
   "source": [
    "## Una Applicazione alla Crescita Logistica\n",
    "\n",
    "**Di solito a questo punto è una buona idea _disegnare_ la funzione**\n",
    "\n",
    "Possiamo farlo perchè $F$ è _univariata e scalare_, i.e. $F: \\mathbb{R} \\to \\mathbb{R}$\n",
    "\n",
    "* Una semplice funzione di disegno è inclusa nel modulo `example.util`:\n",
    "\n",
    "```python\n",
    "def plot_univariate_function(f, x, figsize=None):\n",
    "    plt.figure(figsize=figsize)\n",
    "    plt.plot(x, f(x))\n",
    "    plt.plot(plt.xlim(), [0, 0])\n",
    "    plt.grid()\n",
    "    plt.show()\n",
    "```\n",
    "\n",
    "* La funzione evidenza l'asse delle ascisse\n",
    "* ...In modo da facilitare l'individuazione degli zeri"
   ]
  },
  {
   "cell_type": "markdown",
   "metadata": {
    "slideshow": {
     "slide_type": "subslide"
    }
   },
   "source": [
    "## Una Applicazione alla Crescita Logistica\n",
    "\n",
    "**Proviamo a disegnare la nostra funzione**"
   ]
  },
  {
   "cell_type": "code",
   "execution_count": 4,
   "metadata": {},
   "outputs": [
    {
     "data": {
      "image/png": "[encoded data removed]",
      "text/plain": [
       "<Figure size 1440x288 with 1 Axes>"
      ]
     },
     "metadata": {
      "needs_background": "light"
     },
     "output_type": "display_data"
    }
   ],
   "source": [
    "from example import util\n",
    "util.plot_univariate_function(f=LogiEq(r=2.5), x=np.linspace(-0.5, 1, 1000), figsize=(20, 4))"
   ]
  },
  {
   "cell_type": "markdown",
   "metadata": {},
   "source": [
    "* La funzione a due zeri (i.e. il sistema ha due punti di equilibrio)\n",
    "* Il primo è banale, i.e. $x = 0$, il secondo è intorno a 0.6\n",
    "\n",
    "**Come possiamo determinare il valore esatto?**"
   ]
  },
  {
   "cell_type": "markdown",
   "metadata": {
    "slideshow": {
     "slide_type": "subslide"
    }
   },
   "source": [
    "## Metodo della Bisezione\n",
    "\n",
    "**...Per esempio possiamo utilizzare il metodo della bisezione:**\n",
    "\n",
    "* Individuiamo due punti $a, b$ per cui $F$ abbia _segno opposto_\n",
    "* In queste condizioni, _se $F$ è continua_\n",
    "* ...Allora deve avere uno zero nell'intervallo $[a, b]$\n",
    "\n",
    "Questo risultato è noto come [teorema di Bolzano](https://en.wikipedia.org/wiki/Intermediate_value_theorem)\n",
    "\n",
    "**Se $F$ ha uno zero nell'intervallo**\n",
    "\n",
    "* Allora possiamo considerare il valore intermedio $m = (a + b)/2$\n",
    "* In base al segno di $m$, possiamo determinare dove sia lo zero\n",
    "  - I.e. se sia nella metà sx $[a, m]$ o in quella dx $(m, b]$\n",
    "* ...E ripetere finché non siamo sufficientemente vicini alla soluzione"
   ]
  },
  {
   "cell_type": "markdown",
   "metadata": {
    "slideshow": {
     "slide_type": "subslide"
    }
   },
   "source": [
    "## Metodo della Bisezione\n",
    "\n",
    "**Una implementazione del metodo è fornita nel modulo `example.util`**\n",
    "\n",
    "```python\n",
    "def bisection(f, a, b, tol=1e-6):\n",
    "    # Controllo le condizioni di applicabilità\n",
    "    if f(a) * f(b) >= 0:\n",
    "        print('f(a) e f(b) devono avere segno opposto')\n",
    "        return None\n",
    "    # Individuo uno zero\n",
    "    while abs(a - b) > tol: # finché la tolleranza desiderata non è raggiunta\n",
    "        m = 0.5 * (a + b) # determino il punto intermedio\n",
    "        if f(m) * f(a) >= 0: # se f(m) ed f(a) hanno lo stesso segno\n",
    "            a = m # ...allora rimpiazzo a con m\n",
    "        else:\n",
    "            b = m # ...altrimenti rimpiazzo b\n",
    "    # Restituisco la soluzione\n",
    "    return m\n",
    "```"
   ]
  },
  {
   "cell_type": "markdown",
   "metadata": {
    "slideshow": {
     "slide_type": "subslide"
    }
   },
   "source": [
    "## Metodo della Bisezione\n",
    "\n",
    "**Il modulo contiene una versione della funzione**\n",
    "\n",
    "...Che può disegnare i punti valutati"
   ]
  },
  {
   "cell_type": "code",
   "execution_count": 8,
   "metadata": {},
   "outputs": [
    {
     "data": {
      "image/png": "[encoded data removed]",
      "text/plain": [
       "<Figure size 1440x360 with 1 Axes>"
      ]
     },
     "metadata": {
      "needs_background": "light"
     },
     "output_type": "display_data"
    },
    {
     "name": "stdout",
     "output_type": "stream",
     "text": [
      "Il secondo zero è circa: 0.6078125000000001\n"
     ]
    }
   ],
   "source": [
    "F = LogiEq(r=2.5)\n",
    "x_sol = util.bisection_with_plot(F, a=0.1, b=0.75, max_it=5, figsize=(20, 5))\n",
    "print(f'Il secondo zero è circa: {x_sol}')"
   ]
  },
  {
   "cell_type": "markdown",
   "metadata": {},
   "source": [
    "* Ogni linea rossa corrisponde ad un valore di $x$ valutato"
   ]
  },
  {
   "cell_type": "markdown",
   "metadata": {
    "slideshow": {
     "slide_type": "subslide"
    }
   },
   "source": [
    "## Oltre il Metodo della Bisezione\n",
    "\n",
    "**Il metodo della bisezione ha diverse caratteristiche interessanti**\n",
    "\n",
    "* La sua _convergenza è garantita_ (per funzioni continue)\n",
    "    * Basta partire da due punti $a$ e $b$ che soddisfino l'assunzione\n",
    "* _Nessun manipolazione simbolica_ è richiesta\n",
    "    * Una volta che abbiamo individuato la funzione da azzerare\n",
    "    * ...Ci basta poterla valutare!\n",
    "\n",
    "**Il metodo è (relativamente) lento a convergere**\n",
    "\n",
    "...Ma ne sono state proposte diverse varianti più veloci\n",
    "\n",
    "* Come al solito, ne troviamo diverse già implementate\n",
    "* In particolare, queste sono nel modulo `scipy.optimize`"
   ]
  },
  {
   "cell_type": "markdown",
   "metadata": {
    "slideshow": {
     "slide_type": "subslide"
    }
   },
   "source": [
    "## Migliorarenti del Metodo della Bisezione\n",
    "\n",
    "**Noi utilizzeremo [il metodo brentq](https://docs.scipy.org/doc/scipy-0.13.0/reference/generated/scipy.optimize.brentq.html#scipy.optimize.brentq)**\n",
    "\n",
    "...Che può essere chiamato esattamente come la funzione `bisect`\n",
    "\n",
    "* Di seguito vediamo un esempio per la crescita logistica"
   ]
  },
  {
   "cell_type": "code",
   "execution_count": 10,
   "metadata": {},
   "outputs": [
    {
     "name": "stdout",
     "output_type": "stream",
     "text": [
      "Il secondo zero è in 0.6\n"
     ]
    }
   ],
   "source": [
    "from scipy.optimize import brentq\n",
    "\n",
    "F = LogiEq(r=2.5)\n",
    "x_sol = brentq(F, a=0.1, b=0.75)\n",
    "print(f'Il secondo zero è in {x_sol}')"
   ]
  },
  {
   "cell_type": "markdown",
   "metadata": {},
   "source": [
    "* Il metodo fornito da `scipy` è di gran lunga migliore del nostro codice\n",
    "* ...E si raccomanda il suo utilizzo"
   ]
  },
  {
   "cell_type": "markdown",
   "metadata": {
    "slideshow": {
     "slide_type": "subslide"
    }
   },
   "source": [
    "## Codice Completo\n",
    "\n",
    "**Di seguito il codice completo dell'esempio:**"
   ]
  },
  {
   "cell_type": "code",
   "execution_count": 11,
   "metadata": {
    "slideshow": {
     "slide_type": "-"
    }
   },
   "outputs": [
    {
     "name": "stdout",
     "output_type": "stream",
     "text": [
      "Il secondo zero è in 0.6\n"
     ]
    }
   ],
   "source": [
    "import numpy as np\n",
    "from scipy.optimize import brentq\n",
    "\n",
    "class LogiEq:\n",
    "    def __init__(self, r=1, N=1):\n",
    "        self.r = r\n",
    "        self.N = N\n",
    "    \n",
    "    def __call__(self, x):\n",
    "        return x - self.r * x * (1 - x/self.N)\n",
    "\n",
    "F = LogiEq(r=2.5)\n",
    "x_sol = brentq(F, a=0.1, b=0.75)\n",
    "print(f'Il secondo zero è in {x_sol}')"
   ]
  },
  {
   "cell_type": "markdown",
   "metadata": {
    "slideshow": {
     "slide_type": "slide"
    }
   },
   "source": [
    "# Metodo di Newton-Raphson"
   ]
  },
  {
   "cell_type": "markdown",
   "metadata": {
    "slideshow": {
     "slide_type": "subslide"
    }
   },
   "source": [
    "## Un Esempio\n",
    "\n",
    "**Consideriamo l'oscillatore di Van der Pol:**\n",
    "\n",
    "$$\n",
    "\\left(\\begin{array}{c}\n",
    "\\dot{x} \\\\\n",
    "\\dot{y}\n",
    "\\end{array}\\right)\n",
    "=\n",
    "\\left(\\begin{array}{c}\n",
    "y \\\\\n",
    "\\mu (1 - x^2)y - x\n",
    "\\end{array}\\right)\n",
    "$$\n",
    "\n",
    "* Si tratta di nuovo di un sistema dinamico\n",
    "* Ma questa volta è _continuo_\n",
    "\n",
    "**Supponiamo di volerne determinare di nuovo i punti di equilibrio**\n",
    "\n",
    "> **Come possiamo procedere?**"
   ]
  },
  {
   "cell_type": "markdown",
   "metadata": {
    "slideshow": {
     "slide_type": "subslide"
    }
   },
   "source": [
    "## Equilibrio di Sistemi Dinamici Continui\n",
    "\n",
    "**Un sistema dinamico continuo è descritto da una ODE, i.e.:**\n",
    "\n",
    "$$\n",
    "\\dot{x} = f(x, t)\n",
    "$$\n",
    "\n",
    "* Per definizione, all'equilibrio lo stato $x$ non ha variazioni\n",
    "* ...Quindi _la sua derivata deve annullarsi_\n",
    "\n",
    "**Possiamo quindi determinare i punti di equilibrio richiedendo la condizione:**\n",
    "\n",
    "$$\n",
    "\\dot{x} = f(x, t) = 0\n",
    "$$\n",
    "\n",
    "I.e. risolvendo l'equazione non lineare $f(x, t) = 0$\n",
    "\n",
    "* Il ragionamento applicato è simile a quello per i sistemi discreti\n",
    "* ...Anche se l'equazione risultante è un po' diversa"
   ]
  },
  {
   "cell_type": "markdown",
   "metadata": {
    "slideshow": {
     "slide_type": "subslide"
    }
   },
   "source": [
    "## Zeri di Funzioni Vettoriali \n",
    "\n",
    "**Proviamo ad applicare il ragionamento al nostro caso:**\n",
    "\n",
    "L'equazione che caratterizza un equilibrio è:\n",
    "\n",
    "$$\n",
    "\\left(\\begin{array}{c}\n",
    "y \\\\\n",
    "\\mu (1 - x^2)y - x\n",
    "\\end{array}\\right)\n",
    "=\n",
    "\\left(\\begin{array}{c}\n",
    "0 \\\\\n",
    "0\n",
    "\\end{array}\\right)\n",
    "$$\n",
    "\n",
    "* È abbastanza facile rendersi conto che c'è un'unica soluzione, i.e. $(0, 0)$\n",
    "* ...Ma di nuovo useremo questo esempio per introdurre un metodo numerico\n",
    "\n",
    "**In questo caso il metodo della bisezione non può essere applicato**\n",
    "\n",
    "...Perché la funzione da azzerare è _multivariata_ e _vettoriale_, i.e. $F: \\mathbb{R}^n \\to \\mathbb{R}^n$\n",
    "\n",
    "> **Ci occorre un approccio in grado di gestire questa situazione**"
   ]
  },
  {
   "cell_type": "markdown",
   "metadata": {
    "slideshow": {
     "slide_type": "subslide"
    }
   },
   "source": [
    "## Metodo di Newton-Raphson\n",
    "\n",
    "**Una possibilità è applicare il [metodo di Newton-Raphson](https://en.wikipedia.org/wiki/Newton%27s_method)**\n",
    "\n",
    "Data una equazione non lineare (scalare o vettoriale) nella forma:\n",
    "\n",
    "$$\n",
    "F(x) = 0\n",
    "$$\n",
    "\n",
    "...Il metodo di Newtwon-Raphson:\n",
    "\n",
    "* Inizia l'esecuzione da una stima iniziale $x_0$ della soluzione\n",
    "* Approssima la funzione utilizzando l'iperpiano tangente\n",
    "* Trova uno zero $x_1$ dell'iperpiano tangente\n",
    "* ...Ripete il processo fino ad una condizione di terminazione\n",
    "\n",
    "**Il metodo di N-R è alla base di molti algoritmi per zeri di funzioni vettoriali**"
   ]
  },
  {
   "cell_type": "markdown",
   "metadata": {
    "slideshow": {
     "slide_type": "subslide"
    }
   },
   "source": [
    "## Metodo di Newton-Raphson\n",
    "\n",
    "**Proviamo a vedere i vari passi nel dettaglio**\n",
    "\n",
    "...Per semplicità, assumeremo per ora che $F$ sia _univariata e scalare_\n",
    "\n",
    "* L'obiettivo è risolvere (con $F: \\mathbb{R} \\to \\mathbb{R})$):\n",
    "\n",
    "$$\n",
    "F(x) = 0\n",
    "$$\n",
    "\n",
    "* Approssimando $F$ utilizzando la _retta_ tangente in $x_k$, otteniamo:\n",
    "\n",
    "$$\n",
    "F(x_k) + F^\\prime(x_k) (x - x_k) = 0\n",
    "$$\n",
    "\n",
    "* ...Che si azzera per:\n",
    "\n",
    "$$\n",
    "x = x_k  - \\frac{F(x_k)}{F^\\prime(x_k)}\n",
    "$$"
   ]
  },
  {
   "cell_type": "markdown",
   "metadata": {
    "slideshow": {
     "slide_type": "subslide"
    }
   },
   "source": [
    "## Metodo di Newton-Raphson\n",
    "\n",
    "**Del codice per la versione univariata del metodo è disponibile in `util`**\n",
    "\n",
    "```python\n",
    "def nrm_univariate(f, x0, tol=1e-6, max_it=100):\n",
    "    x = x0 # Parto dalla stima iniziale\n",
    "    for k in range(max_it): # Facciamo al più max_it iterazioni\n",
    "        # Passo principale del metodo di Newton-Raphson\n",
    "        nx = x - f(x) / num_der(f, x)\n",
    "        if abs(nx - x) <= tol: # Condizione di terminazione\n",
    "            break\n",
    "        x = nx # Rimpiazzo x con il nuovo valore\n",
    "    return x\n",
    "```\n",
    "\n",
    "* Il metodo termina quando $|x_{k+1} - x_k|$ è minore di una data tolleranza\n",
    "* ...O dopo un numero massimo di iterazioni"
   ]
  },
  {
   "cell_type": "markdown",
   "metadata": {
    "slideshow": {
     "slide_type": "subslide"
    }
   },
   "source": [
    "## Metodo di Newton-Raphson\n",
    "\n",
    "**Il modulo contiene anche una versione della funzione**\n",
    "\n",
    "...Che può disegnare i punti valuati e le tangenti\n",
    "\n",
    "* Vediamo il metodo in atto per gli equilibri della crescita logistica"
   ]
  },
  {
   "cell_type": "code",
   "execution_count": 13,
   "metadata": {},
   "outputs": [
    {
     "data": {
      "image/png": "[encoded data removed]",
      "text/plain": [
       "<Figure size 1440x360 with 1 Axes>"
      ]
     },
     "metadata": {
      "needs_background": "light"
     },
     "output_type": "display_data"
    },
    {
     "data": {
      "text/plain": [
       "0.6009615386819698"
      ]
     },
     "execution_count": 13,
     "metadata": {},
     "output_type": "execute_result"
    }
   ],
   "source": [
    "F = LogiEq(r=2.5)\n",
    "util.nrm_univariate_with_plot(F, x0=0.5, a=0.1, b=0.75, max_it=2, figsize=(20, 5))"
   ]
  },
  {
   "cell_type": "markdown",
   "metadata": {
    "slideshow": {
     "slide_type": "subslide"
    }
   },
   "source": [
    "## Metodo di Newton-Raphson\n",
    "\n",
    "**Nel caso $F$ sia _multivariata e vettoriale_**\n",
    "\n",
    "Il metodo resta identico, con le dovute sostituzioni:\n",
    "\n",
    "* L'obiettivo è risolvere (con $F: \\mathbb{R}^n \\to \\mathbb{R}^n$):\n",
    "\n",
    "$$\n",
    "F(x) = 0\n",
    "$$\n",
    "\n",
    "* Approssimando $F$ utilizzando _l'iperpiano_ tangente in $x_k$, otteniamo:\n",
    "\n",
    "$$\n",
    "F(x_k) + J_F(x_k) (x - x_k) = 0\n",
    "$$\n",
    "\n",
    "* ...Che si azzera per:\n",
    "\n",
    "$$\n",
    "x = x_k  - J^{-1}_F(x_k) F(x)\n",
    "$$\n",
    "\n",
    "Dove $J_F(x)$ è lo Jacobiano della funzione"
   ]
  },
  {
   "cell_type": "markdown",
   "metadata": {
    "slideshow": {
     "slide_type": "subslide"
    }
   },
   "source": [
    "## Metodo di Newton Raphson\n",
    "\n",
    "**Il metodo di Newton-Raphson**\n",
    "\n",
    "* Converge molto più velocemente di quello della bisezione\n",
    "    * ...Anche se la differenza sarà trascurabile per i problemi che affronteremo\n",
    "* Può gestire funzioni vettoriali\n",
    "    * ...E quindi sistemi di equazioni non lineari\n",
    "* È applicabile a funzioni _continue e differenziabili_\n",
    "    * La bisezione richiede solo la continuità\n",
    "* Il metodo _può non convergere_!\n",
    "    * E.g. se per un punto la tangente è parallela all'asse delle ascisse!\n",
    "    * È quindi opportuno controllare il valore di $F(x)$ per la soluzione\n",
    "* La convergenza _dipende dalla scelta di $x_0$_\n",
    "    * ...E non sempre è facile trovare una buona stima iniziale"
   ]
  },
  {
   "cell_type": "markdown",
   "metadata": {
    "slideshow": {
     "slide_type": "subslide"
    }
   },
   "source": [
    "## Funzione `fsolve`\n",
    "\n",
    "**Come al solito, non utilizzeremo la nostra versione del metodo**\n",
    "\n",
    "...Ma _una delle sue evoluzioni_, disponibile in scipy.optimize.fsolve\n",
    "\n",
    "* `fsolve` può essere chiamata in modo simile alla nostra `nrm_univariate`:"
   ]
  },
  {
   "cell_type": "code",
   "execution_count": 15,
   "metadata": {},
   "outputs": [
    {
     "name": "stdout",
     "output_type": "stream",
     "text": [
      "Il secondo zero è in [0.6]\n",
      "Il valore della funzione per tale punto è [-1.99840144e-15]\n"
     ]
    }
   ],
   "source": [
    "from scipy.optimize import fsolve\n",
    "F = LogiEq(r=2.5)\n",
    "x_sol = fsolve(F, x0=0.5)\n",
    "print(f'Il secondo zero è in {x_sol}')\n",
    "print(f'Il valore della funzione per tale punto è {F(x_sol)}')"
   ]
  },
  {
   "cell_type": "markdown",
   "metadata": {},
   "source": [
    "* Il metodo fornito da `scipy` è di gran lunga migliore del nostro codice\n",
    "* ...E si raccomanda il suo utilizzo"
   ]
  },
  {
   "cell_type": "markdown",
   "metadata": {
    "slideshow": {
     "slide_type": "subslide"
    }
   },
   "source": [
    "## Zeri di Fuzioni Vettoriali\n",
    "\n",
    "**Vediamo ora come gestire il caso di una funzione vettoriale**\n",
    "\n",
    "Iniziamo definendo la funzione di cui intendiamo trovare gli zeri:"
   ]
  },
  {
   "cell_type": "code",
   "execution_count": 17,
   "metadata": {},
   "outputs": [],
   "source": [
    "class VdPEq:\n",
    "    def __init__(self, mu=1):\n",
    "        self.mu = mu\n",
    "    \n",
    "    def __call__(self, X):\n",
    "        x, y = X\n",
    "        dx = y\n",
    "        dy = self.mu * (1 - x**2) * y - x\n",
    "        return np.array([dx, dy])"
   ]
  },
  {
   "cell_type": "markdown",
   "metadata": {},
   "source": [
    "* Nel nostro caso abbiamo usato una classe (con il metodo `__call__`)\n",
    "* ...In modo da poter cambiare il valore del parametro $\\mu$\n",
    "* La funzione deve ricevere _in ingresso un vettore_ e _restituire un vettore_"
   ]
  },
  {
   "cell_type": "markdown",
   "metadata": {
    "slideshow": {
     "slide_type": "subslide"
    }
   },
   "source": [
    "## Zeri di Funzioni Vettoriali\n",
    "\n",
    "**Quindi possiamo chiamare `fsolve` come nel caso precedente:**"
   ]
  },
  {
   "cell_type": "code",
   "execution_count": 19,
   "metadata": {},
   "outputs": [
    {
     "name": "stdout",
     "output_type": "stream",
     "text": [
      "Il secondo zero è in [0. 0.]\n",
      "Valore della funzione in [0. 0.]: [0. 0.]\n"
     ]
    }
   ],
   "source": [
    "F = VdPEq(mu=1)\n",
    "x_sol = fsolve(F, x0=[0.5, 0.5])\n",
    "print(f'Il secondo zero è in {x_sol}')\n",
    "print(f'Valore della funzione in {x_sol}: {F(x_sol)}')"
   ]
  },
  {
   "cell_type": "markdown",
   "metadata": {},
   "source": [
    "* La stima di partenza deve essere un vettore\n",
    "* Come al solito, è opportuno controllare il valore della funzione\n",
    "* ...Ed accertarsi che sia sufficientemente vicino allo 0"
   ]
  }
 ],
 "metadata": {
  "celltoolbar": "Slideshow",
  "kernelspec": {
   "display_name": "Python 3 (ipykernel)",
   "language": "python",
   "name": "python3"
  },
  "language_info": {
   "codemirror_mode": {
    "name": "ipython",
    "version": 3
   },
   "file_extension": ".py",
   "mimetype": "text/x-python",
   "name": "python",
   "nbconvert_exporter": "python",
   "pygments_lexer": "ipython3",
   "version": "3.9.5"
  },
  "rise": {
   "center": false,
   "enable_chalkboard": true,
   "transition": "fade"
  }
 },
 "nbformat": 4,
 "nbformat_minor": 4
}
